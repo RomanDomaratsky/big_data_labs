{
 "cells": [
  {
   "metadata": {
    "ExecuteTime": {
     "end_time": "2024-10-07T21:05:45.518970Z",
     "start_time": "2024-10-07T21:05:45.082834Z"
    }
   },
   "cell_type": "code",
   "source": [
    "from pyspark.sql import SparkSession\n",
    "from pyspark.sql.types import *\n",
    "\n",
    "\n",
    "spark = SparkSession.builder.getOrCreate()\n",
    "\n",
    "\n",
    "df = spark.read.csv(\"./datasets/Titanic.csv\", header=True, inferSchema=True)\n",
    "\n",
    "df = df.withColumn(\"age\", df[\"age\"].cast(IntegerType()))\n",
    "df = df.withColumn(\"fare\", df[\"fare\"].cast(FloatType()))\n",
    "\n",
    "\n",
    "df.createOrReplaceTempView(\"titanic\")\n",
    "\n",
    "\n",
    "children_count = spark.sql(\"SELECT COUNT(name) FROM titanic WHERE age < 18\")\n",
    "\n",
    "\n",
    "children_count.show()"
   ],
   "id": "4158aac9386d489",
   "outputs": [
    {
     "name": "stdout",
     "output_type": "stream",
     "text": [
      "+-----------+\n",
      "|count(name)|\n",
      "+-----------+\n",
      "|        154|\n",
      "+-----------+\n",
      "\n"
     ]
    }
   ],
   "execution_count": 2
  },
  {
   "metadata": {
    "ExecuteTime": {
     "end_time": "2024-10-05T20:11:15.239524Z",
     "start_time": "2024-10-05T20:11:14.953045Z"
    }
   },
   "cell_type": "code",
   "source": [
    "fare_and_ages = spark.sql(\"SELECT fare, COLLECT_LIST(DISTINCT(age)) as ages \"\n",
    "                          \"from titanic \"\n",
    "                          \"GROUP BY fare \"\n",
    "                          \"ORDER BY fare ASC \")\n",
    "fare_and_ages.show()"
   ],
   "id": "cff035141e53c680",
   "outputs": [
    {
     "name": "stdout",
     "output_type": "stream",
     "text": [
      "+------+--------------------+\n",
      "|  fare|                ages|\n",
      "+------+--------------------+\n",
      "|  NULL|                [60]|\n",
      "|   0.0|[39, 38, 19, 36, ...|\n",
      "|3.1708|                 [9]|\n",
      "|4.0125|                [20]|\n",
      "|   5.0|                [33]|\n",
      "|6.2375|                [61]|\n",
      "|6.4375|                [34]|\n",
      "|  6.45|                [43]|\n",
      "|6.4958|        [18, 21, 34]|\n",
      "|  6.75|            [19, 18]|\n",
      "|6.8583|                  []|\n",
      "|  6.95|                [30]|\n",
      "| 6.975|            [27, 45]|\n",
      "|   7.0|                [47]|\n",
      "|7.0458|                [29]|\n",
      "|  7.05|[25, 38, 24, 23, ...|\n",
      "|7.0542|            [51, 17]|\n",
      "| 7.125|    [17, 22, 35, 41]|\n",
      "|7.1417|                [24]|\n",
      "| 7.225|[26, 25, 30, 15, ...|\n",
      "+------+--------------------+\n",
      "only showing top 20 rows\n",
      "\n"
     ]
    }
   ],
   "execution_count": 37
  },
  {
   "metadata": {
    "ExecuteTime": {
     "end_time": "2024-10-05T19:39:52.263193Z",
     "start_time": "2024-10-05T19:39:52.061872Z"
    }
   },
   "cell_type": "code",
   "source": [
    "max_ages = spark.sql(\"\"\"\n",
    "    SELECT MAX(size(ages)) as max_len \n",
    "    FROM (SELECT COLLECT_LIST(age) as ages FROM titanic GROUP BY fare)\n",
    "\"\"\").collect()[0][0]\n",
    "\n",
    "max_ages"
   ],
   "id": "544501aa036a780b",
   "outputs": [
    {
     "data": {
      "text/plain": [
       "58"
      ]
     },
     "execution_count": 27,
     "metadata": {},
     "output_type": "execute_result"
    }
   ],
   "execution_count": 27
  },
  {
   "metadata": {
    "ExecuteTime": {
     "end_time": "2024-10-05T20:10:53.681402Z",
     "start_time": "2024-10-05T20:10:53.242490Z"
    }
   },
   "cell_type": "code",
   "source": [
    "columns = ', '.join([f\"ages[{i}] as age_{i+1}\" for i in range(max_ages)])\n",
    "\n",
    "fare_and_ages = spark.sql(f\"\"\"\n",
    "    SELECT fare, {columns}\n",
    "    FROM (\n",
    "        SELECT fare, COLLECT_LIST(DISTINCT(age)) as ages \n",
    "        FROM titanic \n",
    "        GROUP BY fare\n",
    "        ORDER BY fare ASC\n",
    "    )\n",
    "\"\"\")\n",
    "fare_and_ages.show(truncate=False)"
   ],
   "id": "d7029e0b5ccabad0",
   "outputs": [
    {
     "name": "stdout",
     "output_type": "stream",
     "text": [
      "+------+-----+-----+-----+-----+-----+-----+-----+-----+-----+------+------+------+------+------+------+------+------+------+------+------+------+------+------+------+------+------+------+------+------+------+------+------+------+------+------+------+------+------+------+------+------+------+------+------+------+------+------+------+------+------+------+------+------+------+------+------+------+------+\n",
      "|fare  |age_1|age_2|age_3|age_4|age_5|age_6|age_7|age_8|age_9|age_10|age_11|age_12|age_13|age_14|age_15|age_16|age_17|age_18|age_19|age_20|age_21|age_22|age_23|age_24|age_25|age_26|age_27|age_28|age_29|age_30|age_31|age_32|age_33|age_34|age_35|age_36|age_37|age_38|age_39|age_40|age_41|age_42|age_43|age_44|age_45|age_46|age_47|age_48|age_49|age_50|age_51|age_52|age_53|age_54|age_55|age_56|age_57|age_58|\n",
      "+------+-----+-----+-----+-----+-----+-----+-----+-----+-----+------+------+------+------+------+------+------+------+------+------+------+------+------+------+------+------+------+------+------+------+------+------+------+------+------+------+------+------+------+------+------+------+------+------+------+------+------+------+------+------+------+------+------+------+------+------+------+------+------+\n",
      "|NULL  |60   |NULL |NULL |NULL |NULL |NULL |NULL |NULL |NULL |NULL  |NULL  |NULL  |NULL  |NULL  |NULL  |NULL  |NULL  |NULL  |NULL  |NULL  |NULL  |NULL  |NULL  |NULL  |NULL  |NULL  |NULL  |NULL  |NULL  |NULL  |NULL  |NULL  |NULL  |NULL  |NULL  |NULL  |NULL  |NULL  |NULL  |NULL  |NULL  |NULL  |NULL  |NULL  |NULL  |NULL  |NULL  |NULL  |NULL  |NULL  |NULL  |NULL  |NULL  |NULL  |NULL  |NULL  |NULL  |NULL  |\n",
      "|0.0   |39   |38   |19   |36   |49   |25   |40   |NULL |NULL |NULL  |NULL  |NULL  |NULL  |NULL  |NULL  |NULL  |NULL  |NULL  |NULL  |NULL  |NULL  |NULL  |NULL  |NULL  |NULL  |NULL  |NULL  |NULL  |NULL  |NULL  |NULL  |NULL  |NULL  |NULL  |NULL  |NULL  |NULL  |NULL  |NULL  |NULL  |NULL  |NULL  |NULL  |NULL  |NULL  |NULL  |NULL  |NULL  |NULL  |NULL  |NULL  |NULL  |NULL  |NULL  |NULL  |NULL  |NULL  |NULL  |\n",
      "|3.1708|9    |NULL |NULL |NULL |NULL |NULL |NULL |NULL |NULL |NULL  |NULL  |NULL  |NULL  |NULL  |NULL  |NULL  |NULL  |NULL  |NULL  |NULL  |NULL  |NULL  |NULL  |NULL  |NULL  |NULL  |NULL  |NULL  |NULL  |NULL  |NULL  |NULL  |NULL  |NULL  |NULL  |NULL  |NULL  |NULL  |NULL  |NULL  |NULL  |NULL  |NULL  |NULL  |NULL  |NULL  |NULL  |NULL  |NULL  |NULL  |NULL  |NULL  |NULL  |NULL  |NULL  |NULL  |NULL  |NULL  |\n",
      "|4.0125|20   |NULL |NULL |NULL |NULL |NULL |NULL |NULL |NULL |NULL  |NULL  |NULL  |NULL  |NULL  |NULL  |NULL  |NULL  |NULL  |NULL  |NULL  |NULL  |NULL  |NULL  |NULL  |NULL  |NULL  |NULL  |NULL  |NULL  |NULL  |NULL  |NULL  |NULL  |NULL  |NULL  |NULL  |NULL  |NULL  |NULL  |NULL  |NULL  |NULL  |NULL  |NULL  |NULL  |NULL  |NULL  |NULL  |NULL  |NULL  |NULL  |NULL  |NULL  |NULL  |NULL  |NULL  |NULL  |NULL  |\n",
      "|5.0   |33   |NULL |NULL |NULL |NULL |NULL |NULL |NULL |NULL |NULL  |NULL  |NULL  |NULL  |NULL  |NULL  |NULL  |NULL  |NULL  |NULL  |NULL  |NULL  |NULL  |NULL  |NULL  |NULL  |NULL  |NULL  |NULL  |NULL  |NULL  |NULL  |NULL  |NULL  |NULL  |NULL  |NULL  |NULL  |NULL  |NULL  |NULL  |NULL  |NULL  |NULL  |NULL  |NULL  |NULL  |NULL  |NULL  |NULL  |NULL  |NULL  |NULL  |NULL  |NULL  |NULL  |NULL  |NULL  |NULL  |\n",
      "|6.2375|61   |NULL |NULL |NULL |NULL |NULL |NULL |NULL |NULL |NULL  |NULL  |NULL  |NULL  |NULL  |NULL  |NULL  |NULL  |NULL  |NULL  |NULL  |NULL  |NULL  |NULL  |NULL  |NULL  |NULL  |NULL  |NULL  |NULL  |NULL  |NULL  |NULL  |NULL  |NULL  |NULL  |NULL  |NULL  |NULL  |NULL  |NULL  |NULL  |NULL  |NULL  |NULL  |NULL  |NULL  |NULL  |NULL  |NULL  |NULL  |NULL  |NULL  |NULL  |NULL  |NULL  |NULL  |NULL  |NULL  |\n",
      "|6.4375|34   |NULL |NULL |NULL |NULL |NULL |NULL |NULL |NULL |NULL  |NULL  |NULL  |NULL  |NULL  |NULL  |NULL  |NULL  |NULL  |NULL  |NULL  |NULL  |NULL  |NULL  |NULL  |NULL  |NULL  |NULL  |NULL  |NULL  |NULL  |NULL  |NULL  |NULL  |NULL  |NULL  |NULL  |NULL  |NULL  |NULL  |NULL  |NULL  |NULL  |NULL  |NULL  |NULL  |NULL  |NULL  |NULL  |NULL  |NULL  |NULL  |NULL  |NULL  |NULL  |NULL  |NULL  |NULL  |NULL  |\n",
      "|6.45  |43   |NULL |NULL |NULL |NULL |NULL |NULL |NULL |NULL |NULL  |NULL  |NULL  |NULL  |NULL  |NULL  |NULL  |NULL  |NULL  |NULL  |NULL  |NULL  |NULL  |NULL  |NULL  |NULL  |NULL  |NULL  |NULL  |NULL  |NULL  |NULL  |NULL  |NULL  |NULL  |NULL  |NULL  |NULL  |NULL  |NULL  |NULL  |NULL  |NULL  |NULL  |NULL  |NULL  |NULL  |NULL  |NULL  |NULL  |NULL  |NULL  |NULL  |NULL  |NULL  |NULL  |NULL  |NULL  |NULL  |\n",
      "|6.4958|18   |21   |34   |NULL |NULL |NULL |NULL |NULL |NULL |NULL  |NULL  |NULL  |NULL  |NULL  |NULL  |NULL  |NULL  |NULL  |NULL  |NULL  |NULL  |NULL  |NULL  |NULL  |NULL  |NULL  |NULL  |NULL  |NULL  |NULL  |NULL  |NULL  |NULL  |NULL  |NULL  |NULL  |NULL  |NULL  |NULL  |NULL  |NULL  |NULL  |NULL  |NULL  |NULL  |NULL  |NULL  |NULL  |NULL  |NULL  |NULL  |NULL  |NULL  |NULL  |NULL  |NULL  |NULL  |NULL  |\n",
      "|6.75  |19   |18   |NULL |NULL |NULL |NULL |NULL |NULL |NULL |NULL  |NULL  |NULL  |NULL  |NULL  |NULL  |NULL  |NULL  |NULL  |NULL  |NULL  |NULL  |NULL  |NULL  |NULL  |NULL  |NULL  |NULL  |NULL  |NULL  |NULL  |NULL  |NULL  |NULL  |NULL  |NULL  |NULL  |NULL  |NULL  |NULL  |NULL  |NULL  |NULL  |NULL  |NULL  |NULL  |NULL  |NULL  |NULL  |NULL  |NULL  |NULL  |NULL  |NULL  |NULL  |NULL  |NULL  |NULL  |NULL  |\n",
      "|6.8583|NULL |NULL |NULL |NULL |NULL |NULL |NULL |NULL |NULL |NULL  |NULL  |NULL  |NULL  |NULL  |NULL  |NULL  |NULL  |NULL  |NULL  |NULL  |NULL  |NULL  |NULL  |NULL  |NULL  |NULL  |NULL  |NULL  |NULL  |NULL  |NULL  |NULL  |NULL  |NULL  |NULL  |NULL  |NULL  |NULL  |NULL  |NULL  |NULL  |NULL  |NULL  |NULL  |NULL  |NULL  |NULL  |NULL  |NULL  |NULL  |NULL  |NULL  |NULL  |NULL  |NULL  |NULL  |NULL  |NULL  |\n",
      "|6.95  |30   |NULL |NULL |NULL |NULL |NULL |NULL |NULL |NULL |NULL  |NULL  |NULL  |NULL  |NULL  |NULL  |NULL  |NULL  |NULL  |NULL  |NULL  |NULL  |NULL  |NULL  |NULL  |NULL  |NULL  |NULL  |NULL  |NULL  |NULL  |NULL  |NULL  |NULL  |NULL  |NULL  |NULL  |NULL  |NULL  |NULL  |NULL  |NULL  |NULL  |NULL  |NULL  |NULL  |NULL  |NULL  |NULL  |NULL  |NULL  |NULL  |NULL  |NULL  |NULL  |NULL  |NULL  |NULL  |NULL  |\n",
      "|6.975 |27   |45   |NULL |NULL |NULL |NULL |NULL |NULL |NULL |NULL  |NULL  |NULL  |NULL  |NULL  |NULL  |NULL  |NULL  |NULL  |NULL  |NULL  |NULL  |NULL  |NULL  |NULL  |NULL  |NULL  |NULL  |NULL  |NULL  |NULL  |NULL  |NULL  |NULL  |NULL  |NULL  |NULL  |NULL  |NULL  |NULL  |NULL  |NULL  |NULL  |NULL  |NULL  |NULL  |NULL  |NULL  |NULL  |NULL  |NULL  |NULL  |NULL  |NULL  |NULL  |NULL  |NULL  |NULL  |NULL  |\n",
      "|7.0   |47   |NULL |NULL |NULL |NULL |NULL |NULL |NULL |NULL |NULL  |NULL  |NULL  |NULL  |NULL  |NULL  |NULL  |NULL  |NULL  |NULL  |NULL  |NULL  |NULL  |NULL  |NULL  |NULL  |NULL  |NULL  |NULL  |NULL  |NULL  |NULL  |NULL  |NULL  |NULL  |NULL  |NULL  |NULL  |NULL  |NULL  |NULL  |NULL  |NULL  |NULL  |NULL  |NULL  |NULL  |NULL  |NULL  |NULL  |NULL  |NULL  |NULL  |NULL  |NULL  |NULL  |NULL  |NULL  |NULL  |\n",
      "|7.0458|29   |NULL |NULL |NULL |NULL |NULL |NULL |NULL |NULL |NULL  |NULL  |NULL  |NULL  |NULL  |NULL  |NULL  |NULL  |NULL  |NULL  |NULL  |NULL  |NULL  |NULL  |NULL  |NULL  |NULL  |NULL  |NULL  |NULL  |NULL  |NULL  |NULL  |NULL  |NULL  |NULL  |NULL  |NULL  |NULL  |NULL  |NULL  |NULL  |NULL  |NULL  |NULL  |NULL  |NULL  |NULL  |NULL  |NULL  |NULL  |NULL  |NULL  |NULL  |NULL  |NULL  |NULL  |NULL  |NULL  |\n",
      "|7.05  |25   |38   |24   |23   |20   |35   |NULL |NULL |NULL |NULL  |NULL  |NULL  |NULL  |NULL  |NULL  |NULL  |NULL  |NULL  |NULL  |NULL  |NULL  |NULL  |NULL  |NULL  |NULL  |NULL  |NULL  |NULL  |NULL  |NULL  |NULL  |NULL  |NULL  |NULL  |NULL  |NULL  |NULL  |NULL  |NULL  |NULL  |NULL  |NULL  |NULL  |NULL  |NULL  |NULL  |NULL  |NULL  |NULL  |NULL  |NULL  |NULL  |NULL  |NULL  |NULL  |NULL  |NULL  |NULL  |\n",
      "|7.0542|51   |17   |NULL |NULL |NULL |NULL |NULL |NULL |NULL |NULL  |NULL  |NULL  |NULL  |NULL  |NULL  |NULL  |NULL  |NULL  |NULL  |NULL  |NULL  |NULL  |NULL  |NULL  |NULL  |NULL  |NULL  |NULL  |NULL  |NULL  |NULL  |NULL  |NULL  |NULL  |NULL  |NULL  |NULL  |NULL  |NULL  |NULL  |NULL  |NULL  |NULL  |NULL  |NULL  |NULL  |NULL  |NULL  |NULL  |NULL  |NULL  |NULL  |NULL  |NULL  |NULL  |NULL  |NULL  |NULL  |\n",
      "|7.125 |17   |22   |35   |41   |NULL |NULL |NULL |NULL |NULL |NULL  |NULL  |NULL  |NULL  |NULL  |NULL  |NULL  |NULL  |NULL  |NULL  |NULL  |NULL  |NULL  |NULL  |NULL  |NULL  |NULL  |NULL  |NULL  |NULL  |NULL  |NULL  |NULL  |NULL  |NULL  |NULL  |NULL  |NULL  |NULL  |NULL  |NULL  |NULL  |NULL  |NULL  |NULL  |NULL  |NULL  |NULL  |NULL  |NULL  |NULL  |NULL  |NULL  |NULL  |NULL  |NULL  |NULL  |NULL  |NULL  |\n",
      "|7.1417|24   |NULL |NULL |NULL |NULL |NULL |NULL |NULL |NULL |NULL  |NULL  |NULL  |NULL  |NULL  |NULL  |NULL  |NULL  |NULL  |NULL  |NULL  |NULL  |NULL  |NULL  |NULL  |NULL  |NULL  |NULL  |NULL  |NULL  |NULL  |NULL  |NULL  |NULL  |NULL  |NULL  |NULL  |NULL  |NULL  |NULL  |NULL  |NULL  |NULL  |NULL  |NULL  |NULL  |NULL  |NULL  |NULL  |NULL  |NULL  |NULL  |NULL  |NULL  |NULL  |NULL  |NULL  |NULL  |NULL  |\n",
      "|7.225 |26   |25   |30   |15   |45   |27   |21   |20   |40   |22    |NULL  |NULL  |NULL  |NULL  |NULL  |NULL  |NULL  |NULL  |NULL  |NULL  |NULL  |NULL  |NULL  |NULL  |NULL  |NULL  |NULL  |NULL  |NULL  |NULL  |NULL  |NULL  |NULL  |NULL  |NULL  |NULL  |NULL  |NULL  |NULL  |NULL  |NULL  |NULL  |NULL  |NULL  |NULL  |NULL  |NULL  |NULL  |NULL  |NULL  |NULL  |NULL  |NULL  |NULL  |NULL  |NULL  |NULL  |NULL  |\n",
      "+------+-----+-----+-----+-----+-----+-----+-----+-----+-----+------+------+------+------+------+------+------+------+------+------+------+------+------+------+------+------+------+------+------+------+------+------+------+------+------+------+------+------+------+------+------+------+------+------+------+------+------+------+------+------+------+------+------+------+------+------+------+------+------+\n",
      "only showing top 20 rows\n",
      "\n"
     ]
    }
   ],
   "execution_count": 36
  },
  {
   "metadata": {
    "ExecuteTime": {
     "end_time": "2024-10-05T19:46:50.962446Z",
     "start_time": "2024-10-05T19:46:50.515497Z"
    }
   },
   "cell_type": "code",
   "source": [
    "survival_status = spark.sql(f'''\n",
    "    SELECT survived, Residence, AVG(age) \n",
    "    FROM titanic\n",
    "    GROUP BY survived, Residence\n",
    "    ORDER BY survived, Residence\n",
    "''')\n",
    "\n",
    "survival_status.show(truncate=False)"
   ],
   "id": "e7856fc47a8e5496",
   "outputs": [
    {
     "name": "stdout",
     "output_type": "stream",
     "text": [
      "+--------+---------+------------------+\n",
      "|survived|Residence|avg(age)          |\n",
      "+--------+---------+------------------+\n",
      "|0       |0        |40.77319587628866 |\n",
      "|0       |1        |30.957055214723926|\n",
      "|0       |2        |27.54874651810585 |\n",
      "|1       |0        |35.044444444444444|\n",
      "|1       |1        |27.305882352941175|\n",
      "|1       |2        |25.545893719806763|\n",
      "+--------+---------+------------------+\n",
      "\n"
     ]
    }
   ],
   "execution_count": 31
  },
  {
   "metadata": {
    "ExecuteTime": {
     "end_time": "2024-10-05T19:56:23.073661Z",
     "start_time": "2024-10-05T19:56:22.416688Z"
    }
   },
   "cell_type": "code",
   "source": [
    "age_diff = spark.sql(\"\"\"\n",
    "    SELECT t.*, \n",
    "           (max_age_per_class.max_age - t.age) AS age_difference\n",
    "    FROM titanic t\n",
    "    JOIN (\n",
    "        SELECT pclass, MAX(age) as max_age\n",
    "        FROM titanic\n",
    "        GROUP BY pclass\n",
    "    ) max_age_per_class\n",
    "    ON t.pclass = max_age_per_class.pclass\n",
    "\"\"\")\n",
    "\n",
    "age_diff.show()\n",
    "\n",
    "age_diff.write.csv(\"Titanic_Age_Difference.csv\", header=True)"
   ],
   "id": "28a30242dc78fc4f",
   "outputs": [
    {
     "name": "stdout",
     "output_type": "stream",
     "text": [
      "+------+--------+---------+--------------------+---+-----+-----+------------------+-------+-----+--------+----+----+--------------------+------+--------------+\n",
      "|pclass|survived|Residence|                name|age|sibsp|parch|            ticket|   fare|cabin|embarked|boat|body|           home.dest|Gender|age_difference|\n",
      "+------+--------+---------+--------------------+---+-----+-----+------------------+-------+-----+--------+----+----+--------------------+------+--------------+\n",
      "|     3|       0|        0| Abbing, Mr. Anthony| 42|    0|    0|         C.A. 5547|   7.55|     |       S|    |    |                    |     0|            32|\n",
      "|     3|       0|        0|Abbott, Master. E...| 13|    0|    2|         C.A. 2673|  20.25|     |       S|    |    | East Providence, RI|     0|            61|\n",
      "|     3|       0|        0|Abbott, Mr. Rossm...| 16|    1|    1|         C.A. 2673|  20.25|     |       S|    | 190| East Providence, RI|     0|            58|\n",
      "|     3|       1|        0|Abbott, Mrs. Stan...| 35|    1|    1|         C.A. 2673|  20.25|     |       S|   A|    | East Providence, RI|     1|            39|\n",
      "|     3|       1|        2|Abelseth, Miss. K...| 16|    0|    0|            348125|   7.65|     |       S|  16|    |Norway Los Angele...|     1|            58|\n",
      "|     3|       1|        0|Abelseth, Mr. Ola...| 25|    0|    0|            348122|   7.65|F G63|       S|   A|    |  Perkins County, SD|     0|            49|\n",
      "|     2|       0|        2| Abelson, Mr. Samuel| 30|    1|    0|         P/PP 3381|   24.0|     |       C|    |    | Russia New York, NY|     0|            40|\n",
      "|     2|       1|        2|Abelson, Mrs. Sam...| 28|    1|    0|         P/PP 3381|   24.0|     |       C|  10|    | Russia New York, NY|     1|            42|\n",
      "|     3|       1|        2|Abrahamsson, Mr. ...| 20|    0|    0|  SOTON/O2 3101284|  7.925|     |       S|  15|    |Taalintehdas, Fin...|     0|            54|\n",
      "|     3|       1|        2|Abrahim, Mrs. Jos...| 18|    0|    0|              2657| 7.2292|     |       C|   C|    |      Greensburg, PA|     1|            56|\n",
      "|     3|       0|        2|Adahl, Mr. Maurit...| 30|    0|    0|            C 7076|   7.25|     |       S|    |  72|Asarum, Sweden Br...|     0|            44|\n",
      "|     3|       0|        1|     Adams, Mr. John| 26|    0|    0|            341826|   8.05|     |       S|    | 103|Bournemouth, England|     0|            48|\n",
      "|     3|       0|        2|Ahlin, Mrs. Johan...| 40|    1|    0|              7546|  9.475|     |       S|    |    |   Sweden Akeley, MN|     1|            34|\n",
      "|     3|       1|        1|Aks, Master. Phil...|  0|    0|    1|            392091|   9.35|     |       S|  11|    |London, England N...|     0|            74|\n",
      "|     3|       1|        2|Aks, Mrs. Sam (Le...| 18|    0|    1|            392091|   9.35|     |       S|  13|    |London, England N...|     1|            56|\n",
      "|     3|       1|        2|Albimona, Mr. Nas...| 26|    0|    0|              2699|18.7875|     |       C|  15|    |Syria Fredericksb...|     0|            48|\n",
      "|     2|       0|        0|Aldworth, Mr. Cha...| 30|    0|    0|            248744|   13.0|     |       S|    |    |  Bryn Mawr, PA, USA|     0|            40|\n",
      "|     3|       0|        1|Alexander, Mr. Wi...| 26|    0|    0|              3474| 7.8875|     |       S|    |    |  England Albion, NY|     0|            48|\n",
      "|     3|       0|        2|Alhomaki, Mr. Ilm...| 20|    0|    0|  SOTON/O2 3101287|  7.925|     |       S|    |    |Salo, Finland Ast...|     0|            54|\n",
      "|     3|       0|        2|      Ali, Mr. Ahmed| 24|    0|    0|SOTON/O.Q. 3101311|   7.05|     |       S|    |    |                    |     0|            50|\n",
      "+------+--------+---------+--------------------+---+-----+-----+------------------+-------+-----+--------+----+----+--------------------+------+--------------+\n",
      "only showing top 20 rows\n",
      "\n"
     ]
    }
   ],
   "execution_count": 35
  },
  {
   "metadata": {},
   "cell_type": "code",
   "outputs": [],
   "execution_count": null,
   "source": "",
   "id": "76185d1458694d7c"
  }
 ],
 "metadata": {
  "kernelspec": {
   "display_name": "Python 3",
   "language": "python",
   "name": "python3"
  },
  "language_info": {
   "codemirror_mode": {
    "name": "ipython",
    "version": 2
   },
   "file_extension": ".py",
   "mimetype": "text/x-python",
   "name": "python",
   "nbconvert_exporter": "python",
   "pygments_lexer": "ipython2",
   "version": "2.7.6"
  }
 },
 "nbformat": 4,
 "nbformat_minor": 5
}
